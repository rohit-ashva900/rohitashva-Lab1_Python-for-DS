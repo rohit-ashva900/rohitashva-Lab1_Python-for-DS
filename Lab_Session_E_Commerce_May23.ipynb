{
 "cells": [
  {
   "cell_type": "markdown",
   "id": "2c8f47d3",
   "metadata": {
    "id": "2c8f47d3"
   },
   "source": [
    "# Lab Session"
   ]
  },
  {
   "cell_type": "markdown",
   "id": "f637aba6",
   "metadata": {
    "id": "f637aba6"
   },
   "source": [
    "## <font color='blue'> Table Of Contents </font>\n",
    "- Problem Statement\n",
    "- Load required libraries\n",
    "- Connect to DB using mysql-connector-python package\n",
    "- Create database named `e_commerce`\n",
    "- Create tables and insert data into tables as specified in the question\n",
    "- Read all the questions and write sql queries to meet the objective"
   ]
  },
  {
   "cell_type": "markdown",
   "id": "1073fc90",
   "metadata": {
    "id": "1073fc90"
   },
   "source": [
    "## <font color='blue'> Problem Statement </font>\n",
    "###  An E-commerce website manages its data in the form of various tables.\n",
    "You need to create a Database called `e_commerce` and various tables in it. The tables needed and attributes which need to be in every table are given before hand. All you have to do is create tables with data in it and answer some of the questions that follows."
   ]
  },
  {
   "cell_type": "markdown",
   "id": "d9abe6c7",
   "metadata": {
    "id": "d9abe6c7"
   },
   "source": [
    "### Load Required Libraries"
   ]
  },
  {
   "cell_type": "code",
   "execution_count": 5,
   "id": "0178d08e",
   "metadata": {
    "id": "0178d08e"
   },
   "outputs": [],
   "source": [
    "import mysql.connector\n",
    "from mysql.connector import Error\n",
    "import pandas as pd\n",
    "import numpy as np\n"
   ]
  },
  {
   "cell_type": "markdown",
   "id": "d7d7fd5c",
   "metadata": {
    "id": "d7d7fd5c"
   },
   "source": [
    "### Connect to DB using Mysql-connector-python package"
   ]
  },
  {
   "cell_type": "code",
   "execution_count": 7,
   "id": "ef7bef72",
   "metadata": {
    "id": "ef7bef72"
   },
   "outputs": [
    {
     "name": "stdout",
     "output_type": "stream",
     "text": [
      "Connected to MySQL Server\n",
      "Database 'e_commerce' created successfully\n",
      "MySQL connection is closed\n"
     ]
    }
   ],
   "source": [
    "try:\n",
    "    # Establish the connection\n",
    "    connection = mysql.connector.connect(\n",
    "        host='localhost',\n",
    "        user='root',\n",
    "        password=''\n",
    "    )\n",
    "    \n",
    "    if connection.is_connected():\n",
    "        print(\"Connected to MySQL Server\")\n",
    "        \n",
    "        # Create the 'e_commerce' database\n",
    "        cursor = connection.cursor()\n",
    "        cursor.execute(\"CREATE DATABASE e_commerce\")\n",
    "        print(\"Database 'e_commerce' created successfully\")\n",
    "\n",
    "except Error as e:\n",
    "    print(f\"Error: '{e}'\")\n",
    "\n",
    "finally:\n",
    "    if connection.is_connected():\n",
    "        cursor.close()\n",
    "        connection.close()\n",
    "        print(\"MySQL connection is closed\")\n"
   ]
  },
  {
   "cell_type": "markdown",
   "id": "9d55e510",
   "metadata": {
    "id": "9d55e510"
   },
   "source": [
    "### You are required to create a database named 'e_commerce'"
   ]
  },
  {
   "cell_type": "code",
   "execution_count": null,
   "id": "42a154f2",
   "metadata": {
    "id": "42a154f2"
   },
   "outputs": [],
   "source": [
    "#  already done above"
   ]
  },
  {
   "cell_type": "markdown",
   "id": "480dc986",
   "metadata": {
    "id": "480dc986"
   },
   "source": [
    "### Q1. Create tables for supplier, customer, category, product, productDetails, order, rating to store the data for the E-commerce with the schema definition given below.\n",
    "\n",
    "\n",
    "- **`supplier`**(SUPP_ID int primary key, SUPP_NAME varchar(50), SUPP_CITY varchar(50), SUPP_PHONE varchar(10))\n",
    "\n",
    "\n",
    "- **`customer`** (CUS_ID INT NOT NULL, CUS_NAME VARCHAR(20) NULL DEFAULT NULL, CUS_PHONE VARCHAR(10), CUS_CITY varchar(30) ,CUS_GENDER CHAR,PRIMARY KEY (CUS_ID))\n",
    "\n",
    "\n",
    "- **`category`** (CAT_ID INT NOT NULL, CAT_NAME VARCHAR(20) NULL DEFAULT NULL,PRIMARY KEY (CAT_ID))\n",
    "\n",
    "\n",
    "- **`product`** (PRO_ID INT NOT NULL, PRO_NAME VARCHAR(20) NULL DEFAULT NULL, PRO_DESC VARCHAR(60) NULL DEFAULT NULL, CAT_ID INT NOT NULL,PRIMARY KEY (PRO_ID),FOREIGN KEY (CAT_ID) REFERENCES CATEGORY (CAT_ID))\n",
    "\n",
    "\n",
    "- **`product_details`** (PROD_ID INT NOT NULL, PRO_ID INT NOT NULL, SUPP_ID INT NOT NULL, PROD_PRICE INT NOT NULL,\n",
    "  PRIMARY KEY (PROD_ID),FOREIGN KEY (PRO_ID) REFERENCES PRODUCT (PRO_ID), FOREIGN KEY (SUPP_ID) REFERENCES SUPPLIER(SUPP_ID))\n",
    "  \n",
    "  \n",
    "- **`order`** (ORD_ID INT NOT NULL, ORD_AMOUNT INT NOT NULL, ORD_DATE DATE, CUS_ID INT NOT NULL, PROD_ID INT NOT NULL,PRIMARY KEY (ORD_ID),FOREIGN KEY (CUS_ID) REFERENCES CUSTOMER(CUS_ID),FOREIGN KEY (PROD_ID) REFERENCES PRODUCT_DETAILS(PROD_ID))\n",
    "\n",
    "\n",
    "- **`rating`** (RAT_ID INT NOT NULL, CUS_ID INT NOT NULL, SUPP_ID INT NOT NULL, RAT_RATSTARS INT NOT NULL,PRIMARY KEY (RAT_ID),FOREIGN KEY (SUPP_ID) REFERENCES SUPPLIER (SUPP_ID),FOREIGN KEY (CUS_ID) REFERENCES CUSTOMER(CUS_ID))"
   ]
  },
  {
   "cell_type": "code",
   "execution_count": 31,
   "id": "967b718f",
   "metadata": {
    "id": "967b718f"
   },
   "outputs": [
    {
     "name": "stdout",
     "output_type": "stream",
     "text": [
      "Error: '1050 (42S01): Table 'supplier' already exists'\n",
      "MySQL connection is closed\n"
     ]
    }
   ],
   "source": [
    "try:\n",
    "    connection = mysql.connector.connect(\n",
    "        host='localhost',\n",
    "        user='root',\n",
    "        password='',\n",
    "        database='e_commerce'\n",
    "    )\n",
    "    \n",
    "    if connection.is_connected():\n",
    "        cursor = connection.cursor()\n",
    "\n",
    "        # Create supplier table\n",
    "        cursor.execute(\"\"\"\n",
    "        CREATE TABLE supplier (\n",
    "            SUPP_ID INT PRIMARY KEY,\n",
    "            SUPP_NAME VARCHAR(50),\n",
    "            SUPP_CITY VARCHAR(50),\n",
    "            SUPP_PHONE VARCHAR(10)\n",
    "        )\n",
    "        \"\"\")\n",
    "\n",
    "        # Create customer table\n",
    "        cursor.execute(\"\"\"\n",
    "        CREATE TABLE customer (\n",
    "            CUS_ID INT NOT NULL,\n",
    "            CUS_NAME VARCHAR(20) NULL DEFAULT NULL,\n",
    "            CUS_PHONE VARCHAR(10),\n",
    "            CUS_CITY VARCHAR(30),\n",
    "            CUS_GENDER CHAR,\n",
    "            PRIMARY KEY (CUS_ID)\n",
    "        )\n",
    "        \"\"\")\n",
    "\n",
    "        # Create category table\n",
    "        cursor.execute(\"\"\"\n",
    "        CREATE TABLE category (\n",
    "            CAT_ID INT NOT NULL,\n",
    "            CAT_NAME VARCHAR(20) NULL DEFAULT NULL,\n",
    "            PRIMARY KEY (CAT_ID)\n",
    "        )\n",
    "        \"\"\")\n",
    "\n",
    "        # Create product table\n",
    "        cursor.execute(\"\"\"\n",
    "        CREATE TABLE product (\n",
    "            PRO_ID INT NOT NULL,\n",
    "            PRO_NAME VARCHAR(20) NULL DEFAULT NULL,\n",
    "            PRO_DESC VARCHAR(60) NULL DEFAULT NULL,\n",
    "            CAT_ID INT NOT NULL,\n",
    "            PRIMARY KEY (PRO_ID),\n",
    "            FOREIGN KEY (CAT_ID) REFERENCES category(CAT_ID)\n",
    "        )\n",
    "        \"\"\")\n",
    "\n",
    "        # Create product_details table\n",
    "        cursor.execute(\"\"\"\n",
    "        CREATE TABLE product_details (\n",
    "            PROD_ID INT NOT NULL,\n",
    "            PRO_ID INT NOT NULL,\n",
    "            SUPP_ID INT NOT NULL,\n",
    "            PROD_PRICE INT NOT NULL,\n",
    "            PRIMARY KEY (PROD_ID),\n",
    "            FOREIGN KEY (PRO_ID) REFERENCES product(PRO_ID),\n",
    "            FOREIGN KEY (SUPP_ID) REFERENCES supplier(SUPP_ID)\n",
    "        )\n",
    "        \"\"\")\n",
    "\n",
    "        # Create order table\n",
    "        cursor.execute(\"\"\"\n",
    "        CREATE TABLE `orders` (\n",
    "            ORD_ID INT NOT NULL,\n",
    "            ORD_AMOUNT INT NOT NULL,\n",
    "            ORD_DATE DATE,\n",
    "            CUS_ID INT NOT NULL,\n",
    "            PROD_ID INT NOT NULL,\n",
    "            PRIMARY KEY (ORD_ID),\n",
    "            FOREIGN KEY (CUS_ID) REFERENCES customer(CUS_ID),\n",
    "            FOREIGN KEY (PROD_ID) REFERENCES product_details(PROD_ID)\n",
    "        )\n",
    "        \"\"\")\n",
    "\n",
    "        # Create rating table\n",
    "        cursor.execute(\"\"\"\n",
    "        CREATE TABLE rating (\n",
    "            RAT_ID INT NOT NULL,\n",
    "            CUS_ID INT NOT NULL,\n",
    "            SUPP_ID INT NOT NULL,\n",
    "            RAT_RATSTARS INT NOT NULL,\n",
    "            PRIMARY KEY (RAT_ID),\n",
    "            FOREIGN KEY (SUPP_ID) REFERENCES supplier(SUPP_ID),\n",
    "            FOREIGN KEY (CUS_ID) REFERENCES customer(CUS_ID)\n",
    "        )\n",
    "        \"\"\")\n",
    "        \n",
    "        print(\"All tables created successfully\")\n",
    "\n",
    "except Error as e:\n",
    "    print(f\"Error: '{e}'\")\n",
    "\n",
    "finally:\n",
    "    if connection.is_connected():\n",
    "        cursor.close()\n",
    "        connection.close()\n",
    "        print(\"MySQL connection is closed\")\n"
   ]
  },
  {
   "cell_type": "markdown",
   "id": "1f653731",
   "metadata": {
    "id": "1f653731"
   },
   "source": [
    "### Q2. Insert the following data in the table created above\n",
    "#### `Note:` If you are getting any error while inserting the data into tables, Kindly close the connection and reconnect\n",
    "\n",
    "#### Table:  supplier\n",
    "| SUPP_ID | SUPP_NAME | SUPP_CITY | SUPP_PHONE |\n",
    "| --- | --- | --- | --- |\n",
    "| 1 | Rajesh Retails | Delhi | 1234567890 |\n",
    "| 2 | Appario Ltd. | Mumbai | 258963147032 |\n",
    "| 3 | Knome products | Bangalore | 9785462315 |\n",
    "| 4 | Bansal Retails | Kochi | 8975463285 |\n",
    "| 5 | Mittal Ltd. | Lucknow | 7898456532 |"
   ]
  },
  {
   "cell_type": "code",
   "execution_count": 11,
   "id": "f6dddd07",
   "metadata": {
    "id": "f6dddd07"
   },
   "outputs": [
    {
     "name": "stdout",
     "output_type": "stream",
     "text": [
      "Supplier data inserted successfully\n",
      "MySQL connection is closed\n"
     ]
    }
   ],
   "source": [
    "try:\n",
    "    connection = mysql.connector.connect(\n",
    "        host='localhost',\n",
    "        user='root',\n",
    "        password='',\n",
    "        database='e_commerce'\n",
    "    )\n",
    "    \n",
    "    if connection.is_connected():\n",
    "        cursor = connection.cursor()\n",
    "        \n",
    "        # SQL query to insert data into supplier table\n",
    "        insert_supplier_query = \"\"\"\n",
    "        INSERT INTO supplier (SUPP_ID, SUPP_NAME, SUPP_CITY, SUPP_PHONE)\n",
    "        VALUES (%s, %s, %s, %s)\n",
    "        \"\"\"\n",
    "        \n",
    "        # Data to be inserted\n",
    "        suppliers = [\n",
    "            (1, 'Rajesh Retails', 'Delhi', '1234567890'),\n",
    "            (2, 'Appario Ltd.', 'Mumbai', '2589631470'),\n",
    "            (3, 'Knome products', 'Bangalore', '9785462315'),\n",
    "            (4, 'Bansal Retails', 'Kochi', '8975463285'),\n",
    "            (5, 'Mittal Ltd.', 'Lucknow', '7898456532')\n",
    "        ]\n",
    "        \n",
    "        # Insert data\n",
    "        cursor.executemany(insert_supplier_query, suppliers)\n",
    "        \n",
    "        # Commit the transaction\n",
    "        connection.commit()\n",
    "        \n",
    "        print(\"Supplier data inserted successfully\")\n",
    "\n",
    "except Error as e:\n",
    "    print(f\"Error: '{e}'\")\n",
    "\n",
    "finally:\n",
    "    if connection.is_connected():\n",
    "        cursor.close()\n",
    "        connection.close()\n",
    "        print(\"MySQL connection is closed\")\n",
    "\n"
   ]
  },
  {
   "cell_type": "markdown",
   "id": "e8a070a6",
   "metadata": {
    "id": "e8a070a6"
   },
   "source": [
    "#### Table:  customer\n",
    "| CUS_ID | CUS_NAME | SUPP_PHONE | CUS_CITY | CUS_GENDER\n",
    "| --- | --- | --- | --- | --- |\n",
    "| 1 | AAKASH | 9999999999 | DELHI | M |\n",
    "| 2 | AMAN | 9785463215 | NOIDA | M |\n",
    "| 3 | NEHA | 9999999998 | MUMBAI | F |\n",
    "| 4 | MEGHA | 9994562399 | KOLKATA | F |\n",
    "| 5 | PULKIT | 7895999999 | LUCKNOW | M |"
   ]
  },
  {
   "cell_type": "code",
   "execution_count": 12,
   "id": "15a4ee87",
   "metadata": {
    "id": "15a4ee87"
   },
   "outputs": [
    {
     "name": "stdout",
     "output_type": "stream",
     "text": [
      "Customer data inserted successfully\n",
      "MySQL connection is closed\n"
     ]
    }
   ],
   "source": [
    "# insert into \"customer\" table\n",
    "try:\n",
    "    connection = mysql.connector.connect(\n",
    "        host='localhost',\n",
    "        user='root',\n",
    "        password='',\n",
    "        database='e_commerce'\n",
    "    )\n",
    "    \n",
    "    if connection.is_connected():\n",
    "        cursor = connection.cursor()\n",
    "        \n",
    "        # SQL query to insert data into customer table\n",
    "        insert_customer_query = \"\"\"\n",
    "        INSERT INTO customer (CUS_ID, CUS_NAME, CUS_PHONE, CUS_CITY, CUS_GENDER)\n",
    "        VALUES (%s, %s, %s, %s, %s)\n",
    "        \"\"\"\n",
    "        \n",
    "        # Data to be inserted\n",
    "        customers = [\n",
    "            (1, 'AAKASH', '9999999999', 'DELHI', 'M'),\n",
    "            (2, 'AMAN', '9785463215', 'NOIDA', 'M'),\n",
    "            (3, 'NEHA', '9999999998', 'MUMBAI', 'F'),\n",
    "            (4, 'MEGHA', '9994562399', 'KOLKATA', 'F'),\n",
    "            (5, 'PULKIT', '7895999999', 'LUCKNOW', 'M')\n",
    "        ]\n",
    "        \n",
    "        # Insert data\n",
    "        cursor.executemany(insert_customer_query, customers)\n",
    "        \n",
    "        # Commit the transaction\n",
    "        connection.commit()\n",
    "        \n",
    "        print(\"Customer data inserted successfully\")\n",
    "\n",
    "except Error as e:\n",
    "    print(f\"Error: '{e}'\")\n",
    "\n",
    "finally:\n",
    "    if connection.is_connected():\n",
    "        cursor.close()\n",
    "        connection.close()\n",
    "        print(\"MySQL connection is closed\")\n"
   ]
  },
  {
   "cell_type": "markdown",
   "id": "b68bfbc2",
   "metadata": {
    "id": "b68bfbc2"
   },
   "source": [
    "#### Table:  category\n",
    "| CAT_ID | CAT_NAME |\n",
    "| --- | --- |  \n",
    "| 1 | BOOKS |\n",
    "| 2 | GAMES |  \n",
    "| 3 | GROCERIES |\n",
    "| 4 | ELECTRONICS |\n",
    "| 5 | CLOTHES |"
   ]
  },
  {
   "cell_type": "code",
   "execution_count": 14,
   "id": "05a00abc",
   "metadata": {
    "id": "05a00abc"
   },
   "outputs": [
    {
     "name": "stdout",
     "output_type": "stream",
     "text": [
      "Category data inserted successfully\n",
      "MySQL connection is closed\n"
     ]
    }
   ],
   "source": [
    "# insert into \"categoty\" table\n",
    "try:\n",
    "    connection = mysql.connector.connect(\n",
    "        host='localhost',\n",
    "        user='root',\n",
    "        password='',\n",
    "        database='e_commerce'\n",
    "    )\n",
    "    \n",
    "    if connection.is_connected():\n",
    "        cursor = connection.cursor()\n",
    "        \n",
    "        # SQL query to insert data into category table\n",
    "        insert_category_query = \"\"\"\n",
    "        INSERT INTO category (CAT_ID, CAT_NAME)\n",
    "        VALUES (%s, %s)\n",
    "        \"\"\"\n",
    "        \n",
    "        # Data to be inserted\n",
    "        categories = [\n",
    "            (1, 'BOOKS'),\n",
    "            (2, 'GAMES'),\n",
    "            (3, 'GROCERIES'),\n",
    "            (4, 'ELECTRONICS'),\n",
    "            (5, 'CLOTHES')\n",
    "        ]\n",
    "        \n",
    "        # Insert data\n",
    "        cursor.executemany(insert_category_query, categories)\n",
    "        \n",
    "        # Commit the transaction\n",
    "        connection.commit()\n",
    "        \n",
    "        print(\"Category data inserted successfully\")\n",
    "\n",
    "except Error as e:\n",
    "    print(f\"Error: '{e}'\")\n",
    "\n",
    "finally:\n",
    "    if connection.is_connected():\n",
    "        cursor.close()\n",
    "        connection.close()\n",
    "        print(\"MySQL connection is closed\")\n",
    "\n"
   ]
  },
  {
   "cell_type": "markdown",
   "id": "eb3bc592",
   "metadata": {
    "id": "eb3bc592"
   },
   "source": [
    "#### Table:  product\n",
    "| PRO_ID | PRO_NAME | PRO_DESC | CAT_ID |\n",
    "| --- | --- | --- | --- |\n",
    "| 1 | GTA V | DFJDJFDJFDJFDJFJF | 2 |\n",
    "| 2 | TSHIRT | DFDFJDFJDKFD | 5 |\n",
    "| 3 | ROG LAPTOP | DFNTTNTNTERND | 4 |\n",
    "| 4 | OATS | REURENTBTOTH | 3 |\n",
    "| 5 | HARRY POTTER | NBEMCTHTJTH | 1 |\n"
   ]
  },
  {
   "cell_type": "code",
   "execution_count": 15,
   "id": "cdfbdfad",
   "metadata": {
    "id": "cdfbdfad"
   },
   "outputs": [
    {
     "name": "stdout",
     "output_type": "stream",
     "text": [
      "Product data inserted successfully\n",
      "MySQL connection is closed\n"
     ]
    }
   ],
   "source": [
    "# insert into \"product\" table\n",
    "try:\n",
    "    connection = mysql.connector.connect(\n",
    "        host='localhost',\n",
    "        user='root',\n",
    "        password='',\n",
    "        database='e_commerce'\n",
    "    )\n",
    "    \n",
    "    if connection.is_connected():\n",
    "        cursor = connection.cursor()\n",
    "        \n",
    "        # SQL query to insert data into product table\n",
    "        insert_product_query = \"\"\"\n",
    "        INSERT INTO product (PRO_ID, PRO_NAME, PRO_DESC, CAT_ID)\n",
    "        VALUES (%s, %s, %s, %s)\n",
    "        \"\"\"\n",
    "        \n",
    "        # Data to be inserted\n",
    "        products = [\n",
    "            (1, 'GTA V', 'DFJDJFDJFDJFDJFJF', 2),\n",
    "            (2, 'TSHIRT', 'DFDFJDFJDKFD', 5),\n",
    "            (3, 'ROG LAPTOP', 'DFNTTNTNTERND', 4),\n",
    "            (4, 'OATS', 'REURENTBTOTH', 3),\n",
    "            (5, 'HARRY POTTER', 'NBEMCTHTJTH', 1)\n",
    "        ]\n",
    "        \n",
    "        # Insert data\n",
    "        cursor.executemany(insert_product_query, products)\n",
    "        \n",
    "        # Commit the transaction\n",
    "        connection.commit()\n",
    "        \n",
    "        print(\"Product data inserted successfully\")\n",
    "\n",
    "except Error as e:\n",
    "    print(f\"Error: '{e}'\")\n",
    "\n",
    "finally:\n",
    "    if connection.is_connected():\n",
    "        cursor.close()\n",
    "        connection.close()\n",
    "        print(\"MySQL connection is closed\")\n",
    "\n"
   ]
  },
  {
   "cell_type": "markdown",
   "id": "cfa8a47d",
   "metadata": {
    "id": "cfa8a47d"
   },
   "source": [
    "#### Table:  product_details\n",
    "| PROD_ID | PRO_ID | SUPP_ID | PROD_PRICE |\n",
    "| --- | --- | --- | --- |\n",
    "| 1 | 1 | 2 | 1500 |\n",
    "| 2 | 3 | 5 | 30000 |\n",
    "| 3 | 5 | 1 | 3000 |\n",
    "| 4 | 2 | 3 | 2500 |\n",
    "| 5 | 4 | 1 | 1000 |"
   ]
  },
  {
   "cell_type": "code",
   "execution_count": 16,
   "id": "c18ea964",
   "metadata": {
    "id": "c18ea964"
   },
   "outputs": [
    {
     "name": "stdout",
     "output_type": "stream",
     "text": [
      "Product details data inserted successfully\n",
      "MySQL connection is closed\n"
     ]
    }
   ],
   "source": [
    "# insert into \"product_details\" table\n",
    "try:\n",
    "    connection = mysql.connector.connect(\n",
    "        host='localhost',\n",
    "        user='root',\n",
    "        password='',\n",
    "        database='e_commerce'\n",
    "    )\n",
    "    \n",
    "    if connection.is_connected():\n",
    "        cursor = connection.cursor()\n",
    "        \n",
    "        # SQL query to insert data into product_details table\n",
    "        insert_product_details_query = \"\"\"\n",
    "        INSERT INTO product_details (PROD_ID, PRO_ID, SUPP_ID, PROD_PRICE)\n",
    "        VALUES (%s, %s, %s, %s)\n",
    "        \"\"\"\n",
    "        \n",
    "        # Data to be inserted\n",
    "        product_details = [\n",
    "            (1, 1, 2, 1500),\n",
    "            (2, 3, 5, 30000),\n",
    "            (3, 5, 1, 3000),\n",
    "            (4, 2, 3, 2500),\n",
    "            (5, 4, 1, 1000)\n",
    "        ]\n",
    "        \n",
    "        # Insert data\n",
    "        cursor.executemany(insert_product_details_query, product_details)\n",
    "        \n",
    "        # Commit the transaction\n",
    "        connection.commit()\n",
    "        \n",
    "        print(\"Product details data inserted successfully\")\n",
    "\n",
    "except Error as e:\n",
    "    print(f\"Error: '{e}'\")\n",
    "\n",
    "finally:\n",
    "    if connection.is_connected():\n",
    "        cursor.close()\n",
    "        connection.close()\n",
    "        print(\"MySQL connection is closed\")\n"
   ]
  },
  {
   "cell_type": "markdown",
   "id": "1df49086",
   "metadata": {
    "id": "1df49086"
   },
   "source": [
    "#### Table:  orders\n",
    "| ORD_ID | ORD_AMOUNT | ORD_DATE | CUS_ID | PROD_ID\n",
    "| --- | --- | --- | --- | --- |\n",
    "| 20 | 1500 | 2021-10-12 | 3 | 5 |\n",
    "| 25 | 30500 | 2021-09-16 | 5 | 2 |\n",
    "| 26 | 2000 | 2021-10-05 | 1 | 1 |\n",
    "| 30 | 3500 | 2021-08-16 | 4 | 3 |\n",
    "| 50 | 2000 | 2021-10-06 | 2 | 1 |"
   ]
  },
  {
   "cell_type": "code",
   "execution_count": 33,
   "id": "0d97dc92",
   "metadata": {
    "id": "0d97dc92"
   },
   "outputs": [
    {
     "name": "stdout",
     "output_type": "stream",
     "text": [
      "Orders data inserted successfully\n",
      "MySQL connection is closed\n"
     ]
    }
   ],
   "source": [
    "try:\n",
    "    connection = mysql.connector.connect(\n",
    "        host='localhost',\n",
    "        user='root',\n",
    "        password='',\n",
    "        database='e_commerce'\n",
    "    )\n",
    "    \n",
    "    if connection.is_connected():\n",
    "        cursor = connection.cursor()\n",
    "        \n",
    "        # SQL query to insert data into orders table\n",
    "        insert_orders_query = \"\"\"\n",
    "        INSERT INTO orders (ORD_ID, ORD_AMOUNT, ORD_DATE, CUS_ID, PROD_ID)\n",
    "        VALUES (%s, %s, %s, %s, %s)\n",
    "        \"\"\"\n",
    "        \n",
    "        # Data to be inserted\n",
    "        orders = [\n",
    "            (20, 1500, '2021-10-12', 3, 5),\n",
    "            (25, 30500, '2021-09-16', 5, 2),\n",
    "            (26, 2000, '2021-10-05', 1, 1),\n",
    "            (30, 3500, '2021-08-16', 4, 3),\n",
    "            (50, 2000, '2021-10-06', 2, 1)\n",
    "        ]\n",
    "        \n",
    "        # Insert data\n",
    "        cursor.executemany(insert_orders_query, orders)\n",
    "        \n",
    "        # Commit the transaction\n",
    "        connection.commit()\n",
    "        \n",
    "        print(\"Orders data inserted successfully\")\n",
    "\n",
    "except Error as e:\n",
    "    print(f\"Error: '{e}'\")\n",
    "\n",
    "finally:\n",
    "    if connection.is_connected():\n",
    "        cursor.close()\n",
    "        connection.close()\n",
    "        print(\"MySQL connection is closed\")"
   ]
  },
  {
   "cell_type": "markdown",
   "id": "75b8ce5f",
   "metadata": {
    "id": "75b8ce5f"
   },
   "source": [
    "#### Table: rating\n",
    "| RAT_ID | CUS_ID | SUPP_ID | RAT_RATSTARS |\n",
    "| --- | --- | --- | --- |\n",
    "| 1 | 2 | 2 | 4 |\n",
    "| 2 | 3 | 4 | 3 |\n",
    "| 3 | 5 | 1 | 5 |\n",
    "| 4 | 1 | 3 | 2 |\n",
    "| 5 | 4 | 5 | 4 |"
   ]
  },
  {
   "cell_type": "code",
   "execution_count": 21,
   "id": "6d5f1e18",
   "metadata": {
    "id": "6d5f1e18"
   },
   "outputs": [
    {
     "name": "stdout",
     "output_type": "stream",
     "text": [
      "Ratings data inserted successfully\n",
      "MySQL connection is closed\n"
     ]
    }
   ],
   "source": [
    "# insert into \"rating\" table\n",
    "try:\n",
    "    connection = mysql.connector.connect(\n",
    "        host='localhost',\n",
    "        user='root',\n",
    "        password='',\n",
    "        database='e_commerce'\n",
    "    )\n",
    "    \n",
    "    if connection.is_connected():\n",
    "        cursor = connection.cursor()\n",
    "        \n",
    "        # SQL query to insert data into rating table\n",
    "        insert_rating_query = \"\"\"\n",
    "        INSERT INTO rating (RAT_ID, CUS_ID, SUPP_ID, RAT_RATSTARS)\n",
    "        VALUES (%s, %s, %s, %s)\n",
    "        \"\"\"\n",
    "        \n",
    "        # Data to be inserted\n",
    "        ratings = [\n",
    "            (1, 2, 2, 4),\n",
    "            (2, 3, 4, 3),\n",
    "            (3, 5, 1, 5),\n",
    "            (4, 1, 3, 2),\n",
    "            (5, 4, 5, 4)\n",
    "        ]\n",
    "        \n",
    "        # Insert data\n",
    "        cursor.executemany(insert_rating_query, ratings)\n",
    "        \n",
    "        # Commit the transaction\n",
    "        connection.commit()\n",
    "        \n",
    "        print(\"Ratings data inserted successfully\")\n",
    "\n",
    "except Error as e:\n",
    "    print(f\"Error: '{e}'\")\n",
    "\n",
    "finally:\n",
    "    if connection.is_connected():\n",
    "        cursor.close()\n",
    "        connection.close()\n",
    "        print(\"MySQL connection is closed\")\n",
    "\n"
   ]
  },
  {
   "cell_type": "markdown",
   "id": "b59361c3",
   "metadata": {
    "id": "b59361c3"
   },
   "source": [
    "### Q3) Display the number of the customer group by their genders who have placed any order of amount greater than or equal to Rs.3000."
   ]
  },
  {
   "cell_type": "code",
   "execution_count": 41,
   "id": "fcafaf3c",
   "metadata": {
    "id": "fcafaf3c"
   },
   "outputs": [
    {
     "name": "stdout",
     "output_type": "stream",
     "text": [
      "Gender: M, Number of Customers: 1\n",
      "Gender: F, Number of Customers: 1\n",
      "MySQL connection is closed\n"
     ]
    }
   ],
   "source": [
    "try:\n",
    "    connection = mysql.connector.connect(\n",
    "        host='localhost',\n",
    "        user='root',\n",
    "        password='',\n",
    "        database='e_commerce'\n",
    "    )\n",
    "    \n",
    "    if connection.is_connected():\n",
    "        cursor = connection.cursor()\n",
    "        \n",
    "        # SQL query to get the number of customers by gender who placed orders >= 3000\n",
    "        query = \"\"\"\n",
    "        SELECT c.CUS_GENDER, COUNT(*) AS NumberOfCustomers\n",
    "        FROM orders o\n",
    "        JOIN customer c ON o.CUS_ID = c.CUS_ID\n",
    "        WHERE o.ORD_AMOUNT >= 3000\n",
    "        GROUP BY c.CUS_GENDER;\n",
    "        \"\"\"\n",
    "        \n",
    "        # Execute the query\n",
    "        cursor.execute(query)\n",
    "        \n",
    "        # Fetch the results\n",
    "        results = cursor.fetchall()\n",
    "        \n",
    "        # Print the results\n",
    "        for row in results:\n",
    "            print(f\"Gender: {row[0]}, Number of Customers: {row[1]}\")\n",
    "        \n",
    "except Error as e:\n",
    "    print(f\"Error: '{e}'\")\n",
    "\n",
    "finally:\n",
    "    if connection.is_connected():\n",
    "        cursor.close()\n",
    "        connection.close()\n",
    "        print(\"MySQL connection is closed\")\n"
   ]
  },
  {
   "cell_type": "markdown",
   "id": "e49e04f5",
   "metadata": {
    "id": "e49e04f5"
   },
   "source": [
    "### Q4) Display all the order along with product name ordered by a customer having Customer_Id=2;"
   ]
  },
  {
   "cell_type": "code",
   "execution_count": 42,
   "id": "9dcb7883",
   "metadata": {
    "id": "9dcb7883"
   },
   "outputs": [
    {
     "name": "stdout",
     "output_type": "stream",
     "text": [
      "Order ID: 50, Order Amount: 2000, Order Date: 2021-10-06, Product Name: GTA V\n",
      "MySQL connection is closed\n"
     ]
    }
   ],
   "source": [
    "try:\n",
    "    connection = mysql.connector.connect(\n",
    "        host='localhost',\n",
    "        user='root',\n",
    "        password='',\n",
    "        database='e_commerce'\n",
    "    )\n",
    "    \n",
    "    if connection.is_connected():\n",
    "        cursor = connection.cursor()\n",
    "        \n",
    "        # SQL query to get all orders along with product name for a customer with Customer_Id=2\n",
    "        query = \"\"\"\n",
    "        SELECT o.ORD_ID, o.ORD_AMOUNT, o.ORD_DATE, p.PRO_NAME\n",
    "        FROM orders o\n",
    "        JOIN product_details pd ON o.PROD_ID = pd.PROD_ID\n",
    "        JOIN product p ON pd.PRO_ID = p.PRO_ID\n",
    "        WHERE o.CUS_ID = 2;\n",
    "        \"\"\"\n",
    "        \n",
    "        # Execute the query\n",
    "        cursor.execute(query)\n",
    "        \n",
    "        # Fetch the results\n",
    "        results = cursor.fetchall()\n",
    "        \n",
    "        # Print the results\n",
    "        for row in results:\n",
    "            print(f\"Order ID: {row[0]}, Order Amount: {row[1]}, Order Date: {row[2]}, Product Name: {row[3]}\")\n",
    "        \n",
    "except Error as e:\n",
    "    print(f\"Error: '{e}'\")\n",
    "\n",
    "finally:\n",
    "    if connection.is_connected():\n",
    "        cursor.close()\n",
    "        connection.close()\n",
    "        print(\"MySQL connection is closed\")"
   ]
  },
  {
   "cell_type": "markdown",
   "id": "3a33398e",
   "metadata": {
    "id": "3a33398e"
   },
   "source": [
    "### Q5) Display the Supplier details who can supply more than one product."
   ]
  },
  {
   "cell_type": "code",
   "execution_count": 43,
   "id": "e933b979",
   "metadata": {
    "id": "e933b979"
   },
   "outputs": [
    {
     "name": "stdout",
     "output_type": "stream",
     "text": [
      "Supplier ID: 1, Supplier Name: Rajesh Retails, Supplier City: Delhi, Supplier Phone: 1234567890\n",
      "MySQL connection is closed\n"
     ]
    }
   ],
   "source": [
    "try:\n",
    "    connection = mysql.connector.connect(\n",
    "        host='localhost',\n",
    "        user='root',\n",
    "        password='',\n",
    "        database='e_commerce'\n",
    "    )\n",
    "    \n",
    "    if connection.is_connected():\n",
    "        cursor = connection.cursor()\n",
    "        \n",
    "        # SQL query to get suppliers who can supply more than one product\n",
    "        query = \"\"\"\n",
    "        SELECT s.SUPP_ID, s.SUPP_NAME, s.SUPP_CITY, s.SUPP_PHONE\n",
    "        FROM supplier s\n",
    "        JOIN product_details pd ON s.SUPP_ID = pd.SUPP_ID\n",
    "        GROUP BY s.SUPP_ID, s.SUPP_NAME, s.SUPP_CITY, s.SUPP_PHONE\n",
    "        HAVING COUNT(pd.PROD_ID) > 1;\n",
    "        \"\"\"\n",
    "        \n",
    "        cursor.execute(query)\n",
    "        results = cursor.fetchall()\n",
    "        \n",
    "        for row in results:\n",
    "            print(f\"Supplier ID: {row[0]}, Supplier Name: {row[1]}, Supplier City: {row[2]}, Supplier Phone: {row[3]}\")\n",
    "        \n",
    "except Error as e:\n",
    "    print(f\"Error: '{e}'\")\n",
    "\n",
    "finally:\n",
    "    if connection.is_connected():\n",
    "        cursor.close()\n",
    "        connection.close()\n",
    "        print(\"MySQL connection is closed\")"
   ]
  },
  {
   "cell_type": "markdown",
   "id": "5fd319ef",
   "metadata": {
    "id": "5fd319ef"
   },
   "source": [
    "### Q6) Find the category of the product whose order amount is minimum."
   ]
  },
  {
   "cell_type": "code",
   "execution_count": 47,
   "id": "06f5cb51",
   "metadata": {
    "id": "06f5cb51"
   },
   "outputs": [
    {
     "name": "stdout",
     "output_type": "stream",
     "text": [
      "Category of the product with the minimum order amount: GROCERIES\n"
     ]
    }
   ],
   "source": [
    "# Continue from the previous connection setup...\n",
    "try:\n",
    "    connection = mysql.connector.connect(\n",
    "        host='localhost',\n",
    "        user='root',\n",
    "        password='',\n",
    "        database='e_commerce'\n",
    "    )\n",
    "    if connection.is_connected():\n",
    "        cursor = connection.cursor()\n",
    "        \n",
    "        # SQL query to get the category of the product with the minimum order amount\n",
    "        query = \"\"\"\n",
    "        SELECT c.CAT_NAME\n",
    "        FROM orders o\n",
    "        JOIN product_details pd ON o.PROD_ID = pd.PROD_ID\n",
    "        JOIN product p ON pd.PRO_ID = p.PRO_ID\n",
    "        JOIN category c ON p.CAT_ID = c.CAT_ID\n",
    "        ORDER BY o.ORD_AMOUNT ASC\n",
    "        LIMIT 1;\n",
    "        \"\"\"\n",
    "        \n",
    "        cursor.execute(query)\n",
    "        result = cursor.fetchone()\n",
    "        \n",
    "        print(f\"Category of the product with the minimum order amount: {result[0]}\")\n",
    "        \n",
    "except Error as e:\n",
    "    print(f\"Error: '{e}'\")\n"
   ]
  },
  {
   "cell_type": "markdown",
   "id": "107102d4",
   "metadata": {
    "id": "107102d4"
   },
   "source": [
    "### Q7) Display the Id and Name of the Product ordered after “2021-10-05”."
   ]
  },
  {
   "cell_type": "code",
   "execution_count": 48,
   "id": "5d3fc7e8",
   "metadata": {
    "id": "5d3fc7e8"
   },
   "outputs": [
    {
     "name": "stdout",
     "output_type": "stream",
     "text": [
      "Product ID: 4, Product Name: OATS\n",
      "Product ID: 1, Product Name: GTA V\n"
     ]
    }
   ],
   "source": [
    "try:\n",
    "    connection = mysql.connector.connect(\n",
    "        host='localhost',\n",
    "        user='root',\n",
    "        password='',\n",
    "        database='e_commerce'\n",
    "    )\n",
    "    if connection.is_connected():\n",
    "        cursor = connection.cursor()\n",
    "        \n",
    "        # SQL query to get the Id and Name of the Product ordered after 2021-10-05\n",
    "        query = \"\"\"\n",
    "        SELECT p.PRO_ID, p.PRO_NAME\n",
    "        FROM orders o\n",
    "        JOIN product_details pd ON o.PROD_ID = pd.PROD_ID\n",
    "        JOIN product p ON pd.PRO_ID = p.PRO_ID\n",
    "        WHERE o.ORD_DATE > '2021-10-05';\n",
    "        \"\"\"\n",
    "        \n",
    "        cursor.execute(query)\n",
    "        results = cursor.fetchall()\n",
    "        \n",
    "        for row in results:\n",
    "            print(f\"Product ID: {row[0]}, Product Name: {row[1]}\")\n",
    "        \n",
    "except Error as e:\n",
    "    print(f\"Error: '{e}'\")\n"
   ]
  },
  {
   "cell_type": "markdown",
   "id": "bdce7167",
   "metadata": {
    "id": "bdce7167"
   },
   "source": [
    "### Q8) Print the top 3 supplier name and id and rating on the basis of their rating along with the customer name who has given the rating."
   ]
  },
  {
   "cell_type": "code",
   "execution_count": 49,
   "id": "fa0cbe44",
   "metadata": {
    "id": "fa0cbe44"
   },
   "outputs": [
    {
     "name": "stdout",
     "output_type": "stream",
     "text": [
      "Supplier ID: 1, Supplier Name: Rajesh Retails, Rating: 5, Customer Name: PULKIT\n",
      "Supplier ID: 2, Supplier Name: Appario Ltd., Rating: 4, Customer Name: AMAN\n",
      "Supplier ID: 5, Supplier Name: Mittal Ltd., Rating: 4, Customer Name: MEGHA\n"
     ]
    }
   ],
   "source": [
    "try:\n",
    "    connection = mysql.connector.connect(\n",
    "        host='localhost',\n",
    "        user='root',\n",
    "        password='',\n",
    "        database='e_commerce'\n",
    "    )\n",
    "    if connection.is_connected():\n",
    "        cursor = connection.cursor()\n",
    "        \n",
    "        # SQL query to get the top 3 suppliers by rating along with customer name\n",
    "        query = \"\"\"\n",
    "        SELECT s.SUPP_ID, s.SUPP_NAME, r.RAT_RATSTARS, c.CUS_NAME\n",
    "        FROM rating r\n",
    "        JOIN supplier s ON r.SUPP_ID = s.SUPP_ID\n",
    "        JOIN customer c ON r.CUS_ID = c.CUS_ID\n",
    "        ORDER BY r.RAT_RATSTARS DESC\n",
    "        LIMIT 3;\n",
    "        \"\"\"\n",
    "        \n",
    "        cursor.execute(query)\n",
    "        results = cursor.fetchall()\n",
    "        \n",
    "        for row in results:\n",
    "            print(f\"Supplier ID: {row[0]}, Supplier Name: {row[1]}, Rating: {row[2]}, Customer Name: {row[3]}\")\n",
    "        \n",
    "except Error as e:\n",
    "    print(f\"Error: '{e}'\")\n"
   ]
  },
  {
   "cell_type": "markdown",
   "id": "346ec2a1",
   "metadata": {
    "id": "346ec2a1"
   },
   "source": [
    "### Q9) Display customer name and gender whose names start or end with character 'A'."
   ]
  },
  {
   "cell_type": "code",
   "execution_count": 50,
   "id": "e571b5fd",
   "metadata": {
    "id": "e571b5fd"
   },
   "outputs": [
    {
     "name": "stdout",
     "output_type": "stream",
     "text": [
      "Customer Name: AAKASH, Customer Gender: M\n",
      "Customer Name: AMAN, Customer Gender: M\n",
      "Customer Name: NEHA, Customer Gender: F\n",
      "Customer Name: MEGHA, Customer Gender: F\n"
     ]
    }
   ],
   "source": [
    "try:\n",
    "    connection = mysql.connector.connect(\n",
    "        host='localhost',\n",
    "        user='root',\n",
    "        password='',\n",
    "        database='e_commerce'\n",
    "    )\n",
    "    if connection.is_connected():\n",
    "        cursor = connection.cursor()\n",
    "        \n",
    "        # SQL query to get customer name and gender whose names start or end with 'A'\n",
    "        query = \"\"\"\n",
    "        SELECT CUS_NAME, CUS_GENDER\n",
    "        FROM customer\n",
    "        WHERE CUS_NAME LIKE 'A%' OR CUS_NAME LIKE '%A';\n",
    "        \"\"\"\n",
    "        \n",
    "        cursor.execute(query)\n",
    "        results = cursor.fetchall()\n",
    "        \n",
    "        for row in results:\n",
    "            print(f\"Customer Name: {row[0]}, Customer Gender: {row[1]}\")\n",
    "        \n",
    "except Error as e:\n",
    "    print(f\"Error: '{e}'\")\n"
   ]
  },
  {
   "cell_type": "markdown",
   "id": "d0b01f77",
   "metadata": {
    "id": "d0b01f77"
   },
   "source": [
    "### Q10) Display the total order amount of the male customers."
   ]
  },
  {
   "cell_type": "code",
   "execution_count": 51,
   "id": "c3fa76e3",
   "metadata": {
    "id": "c3fa76e3"
   },
   "outputs": [
    {
     "name": "stdout",
     "output_type": "stream",
     "text": [
      "Total Order Amount of Male Customers: 34500\n"
     ]
    }
   ],
   "source": [
    "try:\n",
    "    connection = mysql.connector.connect(\n",
    "        host='localhost',\n",
    "        user='root',\n",
    "        password='',\n",
    "        database='e_commerce'\n",
    "    )\n",
    "    if connection.is_connected():\n",
    "        cursor = connection.cursor()\n",
    "        \n",
    "        # SQL query to get the total order amount of male customers\n",
    "        query = \"\"\"\n",
    "        SELECT SUM(o.ORD_AMOUNT) AS TotalOrderAmount\n",
    "        FROM orders o\n",
    "        JOIN customer c ON o.CUS_ID = c.CUS_ID\n",
    "        WHERE c.CUS_GENDER = 'M';\n",
    "        \"\"\"\n",
    "        \n",
    "        cursor.execute(query)\n",
    "        result = cursor.fetchone()\n",
    "        \n",
    "        print(f\"Total Order Amount of Male Customers: {result[0]}\")\n",
    "        \n",
    "except Error as e:\n",
    "    print(f\"Error: '{e}'\")\n"
   ]
  },
  {
   "cell_type": "markdown",
   "id": "ff8a9971",
   "metadata": {
    "id": "ff8a9971"
   },
   "source": [
    "### Q11) Display all the Customers left outer join with  the orders"
   ]
  },
  {
   "cell_type": "code",
   "execution_count": 52,
   "id": "a340c6d6",
   "metadata": {
    "id": "a340c6d6"
   },
   "outputs": [
    {
     "name": "stdout",
     "output_type": "stream",
     "text": [
      "(1, 'AAKASH', '9999999999', 'DELHI', 'M', 26, 2000, datetime.date(2021, 10, 5), 1)\n",
      "(2, 'AMAN', '9785463215', 'NOIDA', 'M', 50, 2000, datetime.date(2021, 10, 6), 1)\n",
      "(3, 'NEHA', '9999999998', 'MUMBAI', 'F', 20, 1500, datetime.date(2021, 10, 12), 5)\n",
      "(4, 'MEGHA', '9994562399', 'KOLKATA', 'F', 30, 3500, datetime.date(2021, 8, 16), 3)\n",
      "(5, 'PULKIT', '7895999999', 'LUCKNOW', 'M', 25, 30500, datetime.date(2021, 9, 16), 2)\n"
     ]
    }
   ],
   "source": [
    "try:\n",
    "    connection = mysql.connector.connect(\n",
    "        host='localhost',\n",
    "        user='root',\n",
    "        password='',\n",
    "        database='e_commerce'\n",
    "    )\n",
    "    if connection.is_connected():\n",
    "        cursor = connection.cursor()\n",
    "        \n",
    "        # SQL query to get all customers with left outer join to orders\n",
    "        query = \"\"\"\n",
    "        SELECT c.*, o.ORD_ID, o.ORD_AMOUNT, o.ORD_DATE, o.PROD_ID\n",
    "        FROM customer c\n",
    "        LEFT JOIN orders o ON c.CUS_ID = o.CUS_ID;\n",
    "        \"\"\"\n",
    "        \n",
    "        cursor.execute(query)\n",
    "        results = cursor.fetchall()\n",
    "        \n",
    "        for row in results:\n",
    "            print(row)\n",
    "        \n",
    "except Error as e:\n",
    "    print(f\"Error: '{e}'\")\n"
   ]
  },
  {
   "cell_type": "markdown",
   "id": "0a72afe3",
   "metadata": {
    "id": "0a72afe3"
   },
   "source": [
    "**NOTE:** Always close an open connection once you are done with the database operations"
   ]
  },
  {
   "cell_type": "markdown",
   "id": "8c88f479",
   "metadata": {
    "id": "8c88f479"
   },
   "source": [
    "## Happy Learning:)"
   ]
  }
 ],
 "metadata": {
  "colab": {
   "provenance": []
  },
  "kernelspec": {
   "display_name": "Python 3 (ipykernel)",
   "language": "python",
   "name": "python3"
  },
  "language_info": {
   "codemirror_mode": {
    "name": "ipython",
    "version": 3
   },
   "file_extension": ".py",
   "mimetype": "text/x-python",
   "name": "python",
   "nbconvert_exporter": "python",
   "pygments_lexer": "ipython3",
   "version": "3.11.7"
  }
 },
 "nbformat": 4,
 "nbformat_minor": 5
}
